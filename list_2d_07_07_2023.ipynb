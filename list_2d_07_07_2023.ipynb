{
  "nbformat": 4,
  "nbformat_minor": 0,
  "metadata": {
    "colab": {
      "provenance": [],
      "authorship_tag": "ABX9TyNXNJDEdYnvRSnlWkIGdkif",
      "include_colab_link": true
    },
    "kernelspec": {
      "name": "python3",
      "display_name": "Python 3"
    },
    "language_info": {
      "name": "python"
    }
  },
  "cells": [
    {
      "cell_type": "markdown",
      "metadata": {
        "id": "view-in-github",
        "colab_type": "text"
      },
      "source": [
        "<a href=\"https://colab.research.google.com/github/gamanma/scaler-python/blob/scaler_classes/list_2d_07_07_2023.ipynb\" target=\"_parent\"><img src=\"https://colab.research.google.com/assets/colab-badge.svg\" alt=\"Open In Colab\"/></a>"
      ]
    },
    {
      "cell_type": "code",
      "execution_count": 12,
      "metadata": {
        "colab": {
          "base_uri": "https://localhost:8080/"
        },
        "id": "FryCNYwvA36c",
        "outputId": "138c0f59-a061-4500-d491-d336b6b5f8bb"
      },
      "outputs": [
        {
          "output_type": "stream",
          "name": "stdout",
          "text": [
            "[5, 1, 2, 3]\n",
            "[4, 5, 1, 2, 3]\n"
          ]
        }
      ],
      "source": [
        "INPUT = [5, 1, 2, 3, 4]\n",
        "\n",
        "\n",
        "OUTPUT = INPUT[:-1]\n",
        "print(OUTPUT)\n",
        "OUTPUT = [INPUT[-1]] + OUTPUT\n",
        "\n",
        "print(OUTPUT)"
      ]
    },
    {
      "cell_type": "code",
      "source": [
        "# INDEX - it returns the first occurence of the string in array\n",
        "\n",
        "a = [1, 2, 3, 4, 5, 6, 7, 8, 3, 2]\n",
        "print(a.index(2))"
      ],
      "metadata": {
        "colab": {
          "base_uri": "https://localhost:8080/"
        },
        "id": "oO_bFtdADjPu",
        "outputId": "f519344f-b784-4702-f6b0-5e1efc9cc858"
      },
      "execution_count": 15,
      "outputs": [
        {
          "output_type": "stream",
          "name": "stdout",
          "text": [
            "1\n"
          ]
        }
      ]
    },
    {
      "cell_type": "code",
      "source": [
        "# Nested List\n",
        "# list are heterozygous - it contains multiple datatypes, list withing list\n",
        "# Ex: [\"Malla\", 58, 48.25, True, False, [1, 2, 3, 4]]\n",
        "# 2D example: [[1, 2, 3, 4],[1, 2, 4], [5, 5]] - list withing list size could be same or may not\n",
        "a = [[1, 2, 3, 4],[1, 2, 4], [5, 5]]\n",
        "print(\"row length \",len(a))\n",
        "print(\"first col  length \",len(a[0]))"
      ],
      "metadata": {
        "colab": {
          "base_uri": "https://localhost:8080/"
        },
        "id": "MRDy9YLyD85V",
        "outputId": "3e9d60d3-3eec-4bef-8116-5a35d3ace6eb"
      },
      "execution_count": 16,
      "outputs": [
        {
          "output_type": "stream",
          "name": "stdout",
          "text": [
            "row length  3\n",
            "first col  length  4\n"
          ]
        }
      ]
    },
    {
      "cell_type": "code",
      "source": [
        "# matrix will have the same lenght of columns for each row\n",
        "a = [[1, 2, 3, 4],[1, 2, 4, 3], [5, 5, 6, 8]]\n",
        "print(\"row length \",len(a))\n",
        "print(\"col  length \",len(a[0]))\n",
        "print(\"col  length \",len(a[1]))\n",
        "\n",
        "print(\"matrix size: rows *  cols : \", len(a) * len(a[0]))"
      ],
      "metadata": {
        "colab": {
          "base_uri": "https://localhost:8080/"
        },
        "id": "6pXERmShHqSV",
        "outputId": "3c5a3633-9774-4db2-a738-7d10d42daa36"
      },
      "execution_count": 21,
      "outputs": [
        {
          "output_type": "stream",
          "name": "stdout",
          "text": [
            "row length  3\n",
            "col  length  4\n",
            "col  length  4\n",
            "matrix size: rows *  cols :  12\n"
          ]
        }
      ]
    },
    {
      "cell_type": "code",
      "source": [
        "# ITERATING OVER 2D LISTS\n",
        "\n",
        "a = [[1, 2, 3, 4],[1, 2, 4], [5, 5]]\n",
        "print(a)\n",
        "for i in range (len(a)):\n",
        "  for j in range (len(a[i])):\n",
        "    print(a[i][j], end = \" \")\n",
        "  print()\n",
        "\n",
        "# matrix\n",
        "a = [[1, 2, 3, 4],[1, 2, 4, 3], [5, 5, 6, 8]]\n",
        "print(a)\n",
        "for i in range(len(a)):\n",
        "  for j in range(len(a[i])):\n",
        "    print(a[i][j], end = \" \")\n",
        "  print()\n",
        "\n",
        "\n"
      ],
      "metadata": {
        "colab": {
          "base_uri": "https://localhost:8080/"
        },
        "id": "Rsc68yu3IToW",
        "outputId": "45a88b83-e6d3-4041-a79d-05759f705dfd"
      },
      "execution_count": 50,
      "outputs": [
        {
          "output_type": "stream",
          "name": "stdout",
          "text": [
            "[[1, 2, 3, 4], [1, 2, 4], [5, 5]]\n",
            "1 2 3 4 \n",
            "1 2 4 \n",
            "5 5 \n",
            "[[1, 2, 3, 4], [1, 2, 4, 3], [5, 5, 6, 8]]\n",
            "1 2 3 4 \n",
            "1 2 4 3 \n",
            "5 5 6 8 \n"
          ]
        }
      ]
    },
    {
      "cell_type": "code",
      "source": [
        "# List comprehention\n",
        "#matrix = input()\n",
        "#matrix = matrix.split(\"],\")\n",
        "#print(matrix)\n",
        "a = [[1, 2, 3, 4],[1, 2, 4, 3], [5, 5, 6, 8]]\n",
        "row_sum = 0\n",
        "col_sum = 0\n",
        "matrix_sum = 0\n",
        "\n",
        "for i in range(len(a)):\n",
        "  row_sum = 0\n",
        "  for j in range(len(a[i])):\n",
        "    matrix_sum += a[i][j]\n",
        "    row_sum += a[i][j]\n",
        "  print(\"Row sum for \",i, row_sum)\n",
        "print(\"Matrix sum = \",  matrix_sum)\n",
        "\n",
        "for i in range(len(a[0])):\n",
        "  col_sum = 0\n",
        "  for j in range(len(a)):\n",
        "    #if i == j:\n",
        "      col_sum += a[j][i]\n",
        "  print(\"col sum \",i, col_sum)\n",
        "\n",
        "\n",
        "\n"
      ],
      "metadata": {
        "colab": {
          "base_uri": "https://localhost:8080/"
        },
        "id": "7uUNzl6gKlJl",
        "outputId": "6bb06b1c-7091-46a7-b608-44f828b9027b"
      },
      "execution_count": 51,
      "outputs": [
        {
          "output_type": "stream",
          "name": "stdout",
          "text": [
            "Row sum for  0 10\n",
            "Row sum for  1 10\n",
            "Row sum for  2 24\n",
            "Matrix sum =  44\n",
            "col sum  0 7\n",
            "col sum  1 9\n",
            "col sum  2 13\n",
            "col sum  3 15\n"
          ]
        }
      ]
    },
    {
      "cell_type": "code",
      "source": [
        "# List comprehention\n"
      ],
      "metadata": {
        "id": "eiFLGHlgTDpU"
      },
      "execution_count": null,
      "outputs": []
    }
  ]
}