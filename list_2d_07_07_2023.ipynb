{
  "nbformat": 4,
  "nbformat_minor": 0,
  "metadata": {
    "colab": {
      "provenance": [],
      "authorship_tag": "ABX9TyNySKa97HVt9lKdBLw6Kx9f",
      "include_colab_link": true
    },
    "kernelspec": {
      "name": "python3",
      "display_name": "Python 3"
    },
    "language_info": {
      "name": "python"
    }
  },
  "cells": [
    {
      "cell_type": "markdown",
      "metadata": {
        "id": "view-in-github",
        "colab_type": "text"
      },
      "source": [
        "<a href=\"https://colab.research.google.com/github/gamanma/scaler-python/blob/scaler_classes/list_2d_07_07_2023.ipynb\" target=\"_parent\"><img src=\"https://colab.research.google.com/assets/colab-badge.svg\" alt=\"Open In Colab\"/></a>"
      ]
    },
    {
      "cell_type": "code",
      "execution_count": 12,
      "metadata": {
        "colab": {
          "base_uri": "https://localhost:8080/"
        },
        "id": "FryCNYwvA36c",
        "outputId": "138c0f59-a061-4500-d491-d336b6b5f8bb"
      },
      "outputs": [
        {
          "output_type": "stream",
          "name": "stdout",
          "text": [
            "[5, 1, 2, 3]\n",
            "[4, 5, 1, 2, 3]\n"
          ]
        }
      ],
      "source": [
        "INPUT = [5, 1, 2, 3, 4]\n",
        "\n",
        "\n",
        "OUTPUT = INPUT[:-1]\n",
        "print(OUTPUT)\n",
        "OUTPUT = [INPUT[-1]] + OUTPUT\n",
        "\n",
        "print(OUTPUT)"
      ]
    },
    {
      "cell_type": "code",
      "source": [
        "# INDEX - it returns the first occurence of the string in array\n",
        "\n",
        "a = [1, 2, 3, 4, 5, 6, 7, 8, 3, 2]\n",
        "print(a.index(2))"
      ],
      "metadata": {
        "colab": {
          "base_uri": "https://localhost:8080/"
        },
        "id": "oO_bFtdADjPu",
        "outputId": "f519344f-b784-4702-f6b0-5e1efc9cc858"
      },
      "execution_count": 15,
      "outputs": [
        {
          "output_type": "stream",
          "name": "stdout",
          "text": [
            "1\n"
          ]
        }
      ]
    },
    {
      "cell_type": "code",
      "source": [
        "# Nested List\n",
        "# list are heterozygous - it contains multiple datatypes, list withing list\n",
        "# Ex: [\"Malla\", 58, 48.25, True, False, [1, 2, 3, 4]]\n",
        "# 2D example: [[1, 2, 3, 4],[1, 2, 4], [5, 5]] - list withing list size could be same or may not\n"
      ],
      "metadata": {
        "id": "MRDy9YLyD85V"
      },
      "execution_count": null,
      "outputs": []
    }
  ]
}