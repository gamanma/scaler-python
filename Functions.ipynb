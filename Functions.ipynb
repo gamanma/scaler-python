{
  "nbformat": 4,
  "nbformat_minor": 0,
  "metadata": {
    "colab": {
      "provenance": [],
      "authorship_tag": "ABX9TyOoL77d2W6j42JGrjzn2tme",
      "include_colab_link": true
    },
    "kernelspec": {
      "name": "python3",
      "display_name": "Python 3"
    },
    "language_info": {
      "name": "python"
    }
  },
  "cells": [
    {
      "cell_type": "markdown",
      "metadata": {
        "id": "view-in-github",
        "colab_type": "text"
      },
      "source": [
        "<a href=\"https://colab.research.google.com/github/gamanma/scaler-python/blob/scaler_classes/Functions.ipynb\" target=\"_parent\"><img src=\"https://colab.research.google.com/assets/colab-badge.svg\" alt=\"Open In Colab\"/></a>"
      ]
    },
    {
      "cell_type": "code",
      "execution_count": null,
      "metadata": {
        "colab": {
          "base_uri": "https://localhost:8080/",
          "height": 130
        },
        "id": "1_AK6dbzCXSu",
        "outputId": "3811e4a4-bc1f-4970-fd79-ef5c30d3ae63"
      },
      "outputs": [
        {
          "output_type": "error",
          "ename": "SyntaxError",
          "evalue": "ignored",
          "traceback": [
            "\u001b[0;36m  File \u001b[0;32m\"<ipython-input-5-1c6d89173f8b>\"\u001b[0;36m, line \u001b[0;32m9\u001b[0m\n\u001b[0;31m    print_date(10, 06, 2023,1)\u001b[0m\n\u001b[0m                   ^\u001b[0m\n\u001b[0;31mSyntaxError\u001b[0m\u001b[0;31m:\u001b[0m leading zeros in decimal integer literals are not permitted; use an 0o prefix for octal integers\n"
          ]
        }
      ],
      "source": [
        "def print_date(day, month, year, style = 0):\n",
        "  if style == 0:\n",
        "    print(day, month, year, sep = \"/\")\n",
        "  elif style == 1:\n",
        "    print(month,day,year,sep=\"/\")\n",
        "  else:\n",
        "    print(\"invalid style\")\n",
        "\n",
        "print_date(10, 06, 2023,1)"
      ]
    },
    {
      "cell_type": "code",
      "source": [
        "print(0 and 9)"
      ],
      "metadata": {
        "colab": {
          "base_uri": "https://localhost:8080/"
        },
        "id": "kji-JW94z3SS",
        "outputId": "a8134c35-fb2f-4ff2-b00a-2bc2f9690db6"
      },
      "execution_count": null,
      "outputs": [
        {
          "output_type": "stream",
          "name": "stdout",
          "text": [
            "0\n"
          ]
        }
      ]
    },
    {
      "cell_type": "code",
      "source": [
        "2**5"
      ],
      "metadata": {
        "colab": {
          "base_uri": "https://localhost:8080/"
        },
        "id": "qEI7FC441uV_",
        "outputId": "328ee9a1-b3ef-434f-8bc7-de8665fabbd5"
      },
      "execution_count": null,
      "outputs": [
        {
          "output_type": "execute_result",
          "data": {
            "text/plain": [
              "32"
            ]
          },
          "metadata": {},
          "execution_count": 5
        }
      ]
    },
    {
      "cell_type": "code",
      "source": [
        "age = int(input())\n",
        "if age > 20:\n",
        "  print('Old')\n",
        "elif age >= 10 and age <= 19:\n",
        "  print('Not too Old')\n",
        "elif age >= 2 and age <= 9:\n",
        "  print('Just became big')\n",
        "elif age < 2:\n",
        "  print('Started growing')"
      ],
      "metadata": {
        "colab": {
          "base_uri": "https://localhost:8080/"
        },
        "id": "FH2Inur553nw",
        "outputId": "b96aa275-4328-4ea9-f831-ca1693c1728d"
      },
      "execution_count": null,
      "outputs": [
        {
          "output_type": "stream",
          "name": "stdout",
          "text": [
            "1\n",
            "Started growing\n"
          ]
        }
      ]
    },
    {
      "cell_type": "markdown",
      "source": [
        "\n"
      ],
      "metadata": {
        "id": "5oIuMouX7-1Q"
      }
    },
    {
      "cell_type": "code",
      "source": [
        "import array\n",
        "\n",
        "array_of_integers = array(\"i\", [1, 2, 3, 4, 5])\n",
        "for element in array_of_integers:\n",
        "  print(element)"
      ],
      "metadata": {
        "colab": {
          "base_uri": "https://localhost:8080/",
          "height": 235
        },
        "id": "dMF5Xz7B89qn",
        "outputId": "a7b90c81-cf76-4e6c-ae2f-c004f07e9a5a"
      },
      "execution_count": null,
      "outputs": [
        {
          "output_type": "error",
          "ename": "TypeError",
          "evalue": "ignored",
          "traceback": [
            "\u001b[0;31m---------------------------------------------------------------------------\u001b[0m",
            "\u001b[0;31mTypeError\u001b[0m                                 Traceback (most recent call last)",
            "\u001b[0;32m<ipython-input-11-01af76c2d041>\u001b[0m in \u001b[0;36m<cell line: 3>\u001b[0;34m()\u001b[0m\n\u001b[1;32m      1\u001b[0m \u001b[0;32mimport\u001b[0m \u001b[0marray\u001b[0m\u001b[0;34m\u001b[0m\u001b[0;34m\u001b[0m\u001b[0m\n\u001b[1;32m      2\u001b[0m \u001b[0;34m\u001b[0m\u001b[0m\n\u001b[0;32m----> 3\u001b[0;31m \u001b[0marray_of_integers\u001b[0m \u001b[0;34m=\u001b[0m \u001b[0marray\u001b[0m\u001b[0;34m(\u001b[0m\u001b[0;34m\"i\"\u001b[0m\u001b[0;34m,\u001b[0m \u001b[0;34m[\u001b[0m\u001b[0;36m1\u001b[0m\u001b[0;34m,\u001b[0m \u001b[0;36m2\u001b[0m\u001b[0;34m,\u001b[0m \u001b[0;36m3\u001b[0m\u001b[0;34m,\u001b[0m \u001b[0;36m4\u001b[0m\u001b[0;34m,\u001b[0m \u001b[0;36m5\u001b[0m\u001b[0;34m]\u001b[0m\u001b[0;34m)\u001b[0m\u001b[0;34m\u001b[0m\u001b[0;34m\u001b[0m\u001b[0m\n\u001b[0m\u001b[1;32m      4\u001b[0m \u001b[0;32mfor\u001b[0m \u001b[0melement\u001b[0m \u001b[0;32min\u001b[0m \u001b[0marray_of_integers\u001b[0m\u001b[0;34m:\u001b[0m\u001b[0;34m\u001b[0m\u001b[0;34m\u001b[0m\u001b[0m\n\u001b[1;32m      5\u001b[0m   \u001b[0mprint\u001b[0m\u001b[0;34m(\u001b[0m\u001b[0melement\u001b[0m\u001b[0;34m)\u001b[0m\u001b[0;34m\u001b[0m\u001b[0;34m\u001b[0m\u001b[0m\n",
            "\u001b[0;31mTypeError\u001b[0m: 'module' object is not callable"
          ]
        }
      ]
    },
    {
      "cell_type": "code",
      "source": [
        "from logging import log\n",
        "print(log10(100000))"
      ],
      "metadata": {
        "colab": {
          "base_uri": "https://localhost:8080/",
          "height": 183
        },
        "id": "UXSlFO7k9RVc",
        "outputId": "cfb647c4-25e7-478c-c769-f6a804dbbbe5"
      },
      "execution_count": null,
      "outputs": [
        {
          "output_type": "error",
          "ename": "NameError",
          "evalue": "ignored",
          "traceback": [
            "\u001b[0;31m---------------------------------------------------------------------------\u001b[0m",
            "\u001b[0;31mNameError\u001b[0m                                 Traceback (most recent call last)",
            "\u001b[0;32m<ipython-input-12-dcb223afd7dc>\u001b[0m in \u001b[0;36m<cell line: 2>\u001b[0;34m()\u001b[0m\n\u001b[1;32m      1\u001b[0m \u001b[0;32mfrom\u001b[0m \u001b[0mlogging\u001b[0m \u001b[0;32mimport\u001b[0m \u001b[0mlog\u001b[0m\u001b[0;34m\u001b[0m\u001b[0;34m\u001b[0m\u001b[0m\n\u001b[0;32m----> 2\u001b[0;31m \u001b[0mprint\u001b[0m\u001b[0;34m(\u001b[0m\u001b[0mlog10\u001b[0m\u001b[0;34m(\u001b[0m\u001b[0;36m100000\u001b[0m\u001b[0;34m)\u001b[0m\u001b[0;34m)\u001b[0m\u001b[0;34m\u001b[0m\u001b[0;34m\u001b[0m\u001b[0m\n\u001b[0m",
            "\u001b[0;31mNameError\u001b[0m: name 'log10' is not defined"
          ]
        }
      ]
    },
    {
      "cell_type": "code",
      "source": [
        "num = int(input())\n",
        "va = 0\n",
        "for i in range(2, num):\n",
        "  va = va + i\n",
        "\n",
        "print(va)"
      ],
      "metadata": {
        "colab": {
          "base_uri": "https://localhost:8080/"
        },
        "id": "I99CE0L2-N0Q",
        "outputId": "74b48697-41a1-47de-f1a4-3bca43b6dc82"
      },
      "execution_count": null,
      "outputs": [
        {
          "output_type": "stream",
          "name": "stdout",
          "text": [
            "6\n",
            "14\n"
          ]
        }
      ]
    },
    {
      "cell_type": "code",
      "source": [
        "if False:\n",
        "  print('sdfhsdf')\n",
        "print('sdfsdf')"
      ],
      "metadata": {
        "colab": {
          "base_uri": "https://localhost:8080/"
        },
        "id": "Mm0ZL02z-s7i",
        "outputId": "99341dc0-d9bd-45bb-e681-8b404a757839"
      },
      "execution_count": null,
      "outputs": [
        {
          "output_type": "stream",
          "name": "stdout",
          "text": [
            "sdfsdf\n"
          ]
        }
      ]
    },
    {
      "cell_type": "code",
      "source": [],
      "metadata": {
        "id": "qlMRYOzc-88v"
      },
      "execution_count": null,
      "outputs": []
    },
    {
      "cell_type": "code",
      "source": [
        "num = 89\n",
        "print(89//3)\n",
        "while num > 1:\n",
        "  num = num // 3\n",
        "print(num)"
      ],
      "metadata": {
        "colab": {
          "base_uri": "https://localhost:8080/"
        },
        "id": "p3y9CzVe-9Bh",
        "outputId": "39e2b10e-8551-4286-f4c3-ccdc62095faf"
      },
      "execution_count": null,
      "outputs": [
        {
          "output_type": "stream",
          "name": "stdout",
          "text": [
            "29\n",
            "1\n"
          ]
        }
      ]
    },
    {
      "cell_type": "code",
      "source": [
        "import\n",
        "val = input(List[int])"
      ],
      "metadata": {
        "colab": {
          "base_uri": "https://localhost:8080/",
          "height": 321
        },
        "id": "R7G9a2hk_rCI",
        "outputId": "22d279b8-ccde-4a1c-a943-59accba3cc11"
      },
      "execution_count": null,
      "outputs": [
        {
          "output_type": "error",
          "ename": "ModuleNotFoundError",
          "evalue": "ignored",
          "traceback": [
            "\u001b[0;31m---------------------------------------------------------------------------\u001b[0m",
            "\u001b[0;31mModuleNotFoundError\u001b[0m                       Traceback (most recent call last)",
            "\u001b[0;32m<ipython-input-25-95ca741aa3a2>\u001b[0m in \u001b[0;36m<cell line: 1>\u001b[0;34m()\u001b[0m\n\u001b[0;32m----> 1\u001b[0;31m \u001b[0;32mimport\u001b[0m \u001b[0mList\u001b[0m\u001b[0;34m\u001b[0m\u001b[0;34m\u001b[0m\u001b[0m\n\u001b[0m\u001b[1;32m      2\u001b[0m \u001b[0mval\u001b[0m \u001b[0;34m=\u001b[0m \u001b[0minput\u001b[0m\u001b[0;34m(\u001b[0m\u001b[0mList\u001b[0m\u001b[0;34m[\u001b[0m\u001b[0mint\u001b[0m\u001b[0;34m]\u001b[0m\u001b[0;34m)\u001b[0m\u001b[0;34m\u001b[0m\u001b[0;34m\u001b[0m\u001b[0m\n",
            "\u001b[0;31mModuleNotFoundError\u001b[0m: No module named 'List'",
            "",
            "\u001b[0;31m---------------------------------------------------------------------------\u001b[0;32m\nNOTE: If your import is failing due to a missing package, you can\nmanually install dependencies using either !pip or !apt.\n\nTo view examples of installing some common dependencies, click the\n\"Open Examples\" button below.\n\u001b[0;31m---------------------------------------------------------------------------\u001b[0m\n"
          ],
          "errorDetails": {
            "actions": [
              {
                "action": "open_url",
                "actionText": "Open Examples",
                "url": "/notebooks/snippets/importing_libraries.ipynb"
              }
            ]
          }
        }
      ]
    },
    {
      "cell_type": "code",
      "source": [
        "num = -29\n",
        "if(num < 0):\n",
        "  num = num * -1\n",
        "print(num)\n"
      ],
      "metadata": {
        "colab": {
          "base_uri": "https://localhost:8080/"
        },
        "id": "_jAXk3eeA-J4",
        "outputId": "a847299c-4b9f-474d-c914-bae7956ce2c9"
      },
      "execution_count": null,
      "outputs": [
        {
          "output_type": "stream",
          "name": "stdout",
          "text": [
            "29\n"
          ]
        }
      ]
    },
    {
      "cell_type": "code",
      "source": [
        "nums = input()\n",
        "num = int(num)\n",
        "print(nums)"
      ],
      "metadata": {
        "colab": {
          "base_uri": "https://localhost:8080/"
        },
        "id": "APjSzjTnBtQq",
        "outputId": "f4781f74-db12-4d86-e331-0299ed548d8b"
      },
      "execution_count": null,
      "outputs": [
        {
          "output_type": "stream",
          "name": "stdout",
          "text": [
            "88\n",
            "88\n"
          ]
        }
      ]
    },
    {
      "cell_type": "code",
      "source": [
        "def eval(nums):\n",
        "    array_ele = nums[1:-1].split(\",\")\n",
        "    print('arra.... ',array_ele)\n",
        "    return array_ele\n",
        "\n",
        "\n",
        "def max_product(nums):\n",
        "    # YOUR CODE GOES HERE\n",
        "    max_num = nums[0]\n",
        "    below_max = 0\n",
        "    array_ele = nums\n",
        "    for num in array_ele:\n",
        "        num = int(num)\n",
        "        print(num,max_num, below_max)\n",
        "        temp = max_num\n",
        "        if(max_num < num):\n",
        "            max_num = num\n",
        "        if( below_max < num and temp != max_num):\n",
        "            below_max = num\n",
        "        print(num,max_num, below_max)\n",
        "    ans = max_num *  below_max\n",
        "\n",
        "    return ans\n",
        "nums = eval(input())\n",
        "print(max_product(nums))"
      ],
      "metadata": {
        "colab": {
          "base_uri": "https://localhost:8080/"
        },
        "id": "oni2kuwVCimw",
        "outputId": "ede23086-ed60-4c39-ea7c-5c0016bf34ee"
      },
      "execution_count": null,
      "outputs": [
        {
          "output_type": "stream",
          "name": "stdout",
          "text": [
            "[-1,0,0,2]\n",
            "arra....  ['-1', '0', '0', '2']\n",
            "-1 0 0\n",
            "-1 0 0\n",
            "0 0 0\n",
            "0 0 0\n",
            "0 0 0\n",
            "0 0 0\n",
            "2 0 0\n",
            "2 2 2\n",
            "4\n"
          ]
        }
      ]
    },
    {
      "cell_type": "code",
      "source": [
        "def find_product_of_two_distinct_numbers(array):\n",
        "  \"\"\"Finds the product of two distinct numbers from the given array.\n",
        "\n",
        "  Args:\n",
        "    array: The array of numbers.\n",
        "\n",
        "  Returns:\n",
        "    The product of two distinct numbers from the array.\n",
        "  \"\"\"\n",
        "\n",
        "  max_product = -float(\"inf\")\n",
        "  for i in range(len(array)):\n",
        "    for j in range(i + 1, len(array)):\n",
        "      product = array[i] * array[j]\n",
        "      if product > max_product:\n",
        "        max_product = product\n",
        "\n",
        "  return max_product\n",
        "\n",
        "\n",
        "if __name__ == \"__main__\":\n",
        "  array = [-1, 0, 0,-1]\n",
        "  print(find_product_of_two_distinct_numbers(array))"
      ],
      "metadata": {
        "colab": {
          "base_uri": "https://localhost:8080/"
        },
        "id": "EWG6apkEP6dA",
        "outputId": "de067e1e-9751-4da3-ce29-420e2554077b"
      },
      "execution_count": null,
      "outputs": [
        {
          "output_type": "stream",
          "name": "stdout",
          "text": [
            "1\n"
          ]
        }
      ]
    },
    {
      "cell_type": "code",
      "source": [
        "def eval(nums):\n",
        "    array_ele = nums[1:-1].split(\",\")\n",
        "    print('arra.... ',array_ele)\n",
        "    return array_ele\n",
        "\n",
        "def max_product(nums):\n",
        "    # YOUR CODE GOES HERE\n",
        "    max_num = -232423\n",
        "    below_max = -348394\n",
        "    array_ele = nums\n",
        "    for num in array_ele:\n",
        "       num = int(num)\n",
        "       if( num > max_num):\n",
        "          max_num = num\n",
        "\n",
        "    for num in array_ele:\n",
        "       num = int(num)\n",
        "       if( num > below_max and num < max_num ):\n",
        "          below_max = num\n",
        "\n",
        "    ans = max_num *  below_max\n",
        "    return ans\n",
        "\n",
        "nums = eval(input())\n",
        "print(max_product(nums))"
      ],
      "metadata": {
        "colab": {
          "base_uri": "https://localhost:8080/"
        },
        "id": "HvP9mlXtLzs4",
        "outputId": "b55b0b8e-35c9-4000-cf70-2194ae8de6a6"
      },
      "execution_count": null,
      "outputs": [
        {
          "output_type": "stream",
          "name": "stdout",
          "text": [
            "[-1, -2, -9, -3, 0,-5]\n",
            "arra....  ['-1', ' -2', ' -9', ' -3', ' 0', '-5']\n",
            "0\n"
          ]
        }
      ]
    },
    {
      "cell_type": "code",
      "source": [
        "def eval(nums):\n",
        "    array_ele = nums[1:-1].split(\",\")\n",
        "    print('arra.... ',array_ele)\n",
        "    return array_ele\n",
        "\n",
        "\n",
        "nums = eval(input())\n",
        "print(nums)"
      ],
      "metadata": {
        "colab": {
          "base_uri": "https://localhost:8080/"
        },
        "id": "cHKc0xEjE-GP",
        "outputId": "a59ba5ee-ba66-45fb-b3d4-55188e1201e7"
      },
      "execution_count": null,
      "outputs": [
        {
          "output_type": "stream",
          "name": "stdout",
          "text": [
            "[2, 4, 5, 6]\n",
            "arra....  ['2', ' 4', ' 5', ' 6']\n",
            "['2', ' 4', ' 5', ' 6']\n"
          ]
        }
      ]
    }
  ]
}