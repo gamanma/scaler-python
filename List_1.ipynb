{
  "nbformat": 4,
  "nbformat_minor": 0,
  "metadata": {
    "colab": {
      "provenance": [],
      "authorship_tag": "ABX9TyOYIqXwHKYP4DQXWMIjKN3q",
      "include_colab_link": true
    },
    "kernelspec": {
      "name": "python3",
      "display_name": "Python 3"
    },
    "language_info": {
      "name": "python"
    }
  },
  "cells": [
    {
      "cell_type": "markdown",
      "metadata": {
        "id": "view-in-github",
        "colab_type": "text"
      },
      "source": [
        "<a href=\"https://colab.research.google.com/github/gamanma/scaler-python/blob/scaler_classes/List_1.ipynb\" target=\"_parent\"><img src=\"https://colab.research.google.com/assets/colab-badge.svg\" alt=\"Open In Colab\"/></a>"
      ]
    },
    {
      "cell_type": "code",
      "execution_count": null,
      "metadata": {
        "colab": {
          "base_uri": "https://localhost:8080/"
        },
        "id": "plzsvANv47nL",
        "outputId": "fd4399d0-bfff-46bd-b92c-85dc05415841"
      },
      "outputs": [
        {
          "output_type": "stream",
          "name": "stdout",
          "text": [
            "sum = 560\n",
            "avg =  56.0\n",
            "max = 120\n",
            "min =  1\n"
          ]
        }
      ],
      "source": [
        "#FIND THE MIN, MAX, AVG, SUM FOR THE GIVEN LIST [1,67, 54, 12, 34, 77, 89, 101, 120,5]\n",
        "\n",
        "runs_virat =  [1,67, 54, 12, 34, 77, 89, 101, 120,5]\n",
        "sum = 0\n",
        "\n",
        "for i in runs_virat:\n",
        "  sum += i\n",
        "\n",
        "max = runs_virat[0]\n",
        "\n",
        "for i in range (1,len(runs_virat)):\n",
        "  if(max < runs_virat[i] ):\n",
        "    max = runs_virat[i]\n",
        "\n",
        "\n",
        "min = runs_virat[0]\n",
        "\n",
        "for i in range (1,len(runs_virat)):\n",
        "  if(min > runs_virat[i] ):\n",
        "    min = runs_virat[i]\n",
        "\n",
        "\n",
        "\n",
        "print('sum =', sum)\n",
        "print('avg = ', sum/len(runs_virat))\n",
        "print('max =', max)\n",
        "print('min = ', min)\n"
      ]
    },
    {
      "cell_type": "code",
      "source": [],
      "metadata": {
        "id": "qNL22Hj6nFjE"
      },
      "execution_count": null,
      "outputs": []
    },
    {
      "cell_type": "code",
      "source": [
        "\n",
        "runs_virat =  [1,67, 54, 12, 34, 77, 89, 101, 120,5]\n",
        "# delete the element by indiex by using pop function\n",
        "del_val = runs_virat.pop(1)\n",
        "print(runs_virat)\n",
        "print(del_val)\n",
        "\n",
        "# remove function will delete the element from list by using value\n",
        "runs_virat.remove(89)\n",
        "print(runs_virat)"
      ],
      "metadata": {
        "colab": {
          "base_uri": "https://localhost:8080/"
        },
        "id": "aJmVC4Hi-xXM",
        "outputId": "6cdc9d0b-ddd7-466f-db01-c53683f2bd3c"
      },
      "execution_count": null,
      "outputs": [
        {
          "output_type": "stream",
          "name": "stdout",
          "text": [
            "[1, 54, 12, 34, 77, 89, 101, 120, 5]\n",
            "67\n",
            "[1, 54, 12, 34, 77, 101, 120, 5]\n"
          ]
        }
      ]
    },
    {
      "cell_type": "code",
      "source": [
        "input_list = input()\n",
        "print(input_list)\n",
        "list = input_list.split(\" \")\n",
        "sum = 0\n",
        "for i in list:\n",
        "  sum += int(i)\n",
        "print(sum)"
      ],
      "metadata": {
        "colab": {
          "base_uri": "https://localhost:8080/"
        },
        "id": "Um2lRaymfngO",
        "outputId": "b05bfeaf-67ee-439e-ef27-73cce922ac64"
      },
      "execution_count": null,
      "outputs": [
        {
          "output_type": "stream",
          "name": "stdout",
          "text": [
            "5 1 2 3 4 5\n",
            "5 1 2 3 4 5\n",
            "20\n"
          ]
        }
      ]
    },
    {
      "cell_type": "code",
      "source": [
        "N = int(input())\n",
        "input_list = input()\n",
        "print(input_list)\n",
        "list = input_list.split(\" \")\n",
        "position = int(input())\n",
        "value = input()\n",
        "list.insert(position - 1, value)\n",
        "print(list)\n"
      ],
      "metadata": {
        "colab": {
          "base_uri": "https://localhost:8080/"
        },
        "id": "qcjOrdhO9bps",
        "outputId": "ddaaae0f-6f81-4323-82a9-069f0fddddd9"
      },
      "execution_count": null,
      "outputs": [
        {
          "output_type": "stream",
          "name": "stdout",
          "text": [
            "4\n",
            "1 2 3 4 \n",
            "1 2 3 4 \n",
            "2\n",
            "5\n",
            "['1', '5', '2', '3', '4', '']\n"
          ]
        }
      ]
    },
    {
      "cell_type": "code",
      "source": [
        "input_array = input()\n",
        "list = input_array.split()\n",
        "updated_list = input_array.split()\n",
        "updated_list[0] = list[len(list) - 1]\n",
        "print(updated_list)\n",
        "print(list)\n",
        "for i in range(0,len(list)-1):\n",
        "    updated_list[i + 1] = list[i]\n",
        "print(updated_list)"
      ],
      "metadata": {
        "colab": {
          "base_uri": "https://localhost:8080/"
        },
        "id": "-Ou8reSl8UX8",
        "outputId": "8287fa80-d87c-4bf9-e9a3-3988d96567cd"
      },
      "execution_count": null,
      "outputs": [
        {
          "output_type": "stream",
          "name": "stdout",
          "text": [
            "1 2 3 4\n",
            "['4', '2', '3', '4']\n",
            "['1', '2', '3', '4']\n",
            "['4', '1', '2', '3']\n"
          ]
        }
      ]
    },
    {
      "cell_type": "code",
      "source": [],
      "metadata": {
        "id": "ZmyzPPWb8A2U"
      },
      "execution_count": null,
      "outputs": []
    }
  ]
}