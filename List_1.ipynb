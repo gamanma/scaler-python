{
  "nbformat": 4,
  "nbformat_minor": 0,
  "metadata": {
    "colab": {
      "provenance": [],
      "authorship_tag": "ABX9TyPBlD42fONohMspowf/tyjf",
      "include_colab_link": true
    },
    "kernelspec": {
      "name": "python3",
      "display_name": "Python 3"
    },
    "language_info": {
      "name": "python"
    }
  },
  "cells": [
    {
      "cell_type": "markdown",
      "metadata": {
        "id": "view-in-github",
        "colab_type": "text"
      },
      "source": [
        "<a href=\"https://colab.research.google.com/github/gamanma/scaler-python/blob/scaler_classes/List_1.ipynb\" target=\"_parent\"><img src=\"https://colab.research.google.com/assets/colab-badge.svg\" alt=\"Open In Colab\"/></a>"
      ]
    },
    {
      "cell_type": "code",
      "execution_count": 34,
      "metadata": {
        "colab": {
          "base_uri": "https://localhost:8080/"
        },
        "id": "plzsvANv47nL",
        "outputId": "fd4399d0-bfff-46bd-b92c-85dc05415841"
      },
      "outputs": [
        {
          "output_type": "stream",
          "name": "stdout",
          "text": [
            "sum = 560\n",
            "avg =  56.0\n",
            "max = 120\n",
            "min =  1\n"
          ]
        }
      ],
      "source": [
        "#FIND THE MIN, MAX, AVG, SUM FOR THE GIVEN LIST [1,67, 54, 12, 34, 77, 89, 101, 120,5]\n",
        "\n",
        "runs_virat =  [1,67, 54, 12, 34, 77, 89, 101, 120,5]\n",
        "sum = 0\n",
        "\n",
        "for i in runs_virat:\n",
        "  sum += i\n",
        "\n",
        "max = runs_virat[0]\n",
        "\n",
        "for i in range (1,len(runs_virat)):\n",
        "  if(max < runs_virat[i] ):\n",
        "    max = runs_virat[i]\n",
        "\n",
        "\n",
        "min = runs_virat[0]\n",
        "\n",
        "for i in range (1,len(runs_virat)):\n",
        "  if(min > runs_virat[i] ):\n",
        "    min = runs_virat[i]\n",
        "\n",
        "\n",
        "\n",
        "print('sum =', sum)\n",
        "print('avg = ', sum/len(runs_virat))\n",
        "print('max =', max)\n",
        "print('min = ', min)\n"
      ]
    },
    {
      "cell_type": "code",
      "source": [],
      "metadata": {
        "id": "ZmyzPPWb8A2U"
      },
      "execution_count": null,
      "outputs": []
    }
  ]
}