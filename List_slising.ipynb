{
  "nbformat": 4,
  "nbformat_minor": 0,
  "metadata": {
    "colab": {
      "provenance": [],
      "authorship_tag": "ABX9TyNqLTlKXYKAN1wH1pUkHp/+",
      "include_colab_link": true
    },
    "kernelspec": {
      "name": "python3",
      "display_name": "Python 3"
    },
    "language_info": {
      "name": "python"
    }
  },
  "cells": [
    {
      "cell_type": "markdown",
      "metadata": {
        "id": "view-in-github",
        "colab_type": "text"
      },
      "source": [
        "<a href=\"https://colab.research.google.com/github/gamanma/scaler-python/blob/scaler_classes/List_slising.ipynb\" target=\"_parent\"><img src=\"https://colab.research.google.com/assets/colab-badge.svg\" alt=\"Open In Colab\"/></a>"
      ]
    },
    {
      "cell_type": "code",
      "execution_count": 12,
      "metadata": {
        "colab": {
          "base_uri": "https://localhost:8080/"
        },
        "id": "Ev5oMESAGA-K",
        "outputId": "78a6c625-1b09-4e40-b25d-5c7ffd22060e"
      },
      "outputs": [
        {
          "output_type": "stream",
          "name": "stdout",
          "text": [
            "[2, 3, 5, 6, 7, 8, 99, 566, 55]\n",
            "[]\n",
            "[3, 5, 6, 7, 8, 99, 566, 55]\n",
            "[8, 7, 6, 5, 3]\n"
          ]
        }
      ],
      "source": [
        "#slising will accept 3 argumaents and it will never throw array index out of bound exception, if the index is not prasent in the array it will print empty for single\n",
        "# first arugment start of the index, default 0\n",
        "# second argument end of index, default end of the list\n",
        "# third arugment jump value, default 1 and it can be possitive or negative value\n",
        "runs = [2,3,5,6,7,8,99,566,55]\n",
        "print(runs[:200]) #output: [2, 3, 5, 6, 7, 8, 99, 566, 55]\n",
        "print(runs[500:200]) #output: []\n",
        "print(runs[1:200]) #output: [3, 5, 6, 7, 8, 99, 566, 55]\n",
        "print(runs[5:0:-1])#output: [8, 7, 6, 5, 3]"
      ]
    }
  ]
}